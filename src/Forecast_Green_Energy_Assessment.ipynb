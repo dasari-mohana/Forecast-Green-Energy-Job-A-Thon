{
 "cells": [
  {
   "cell_type": "markdown",
   "id": "ccbd99f2",
   "metadata": {},
   "source": [
    "# Problem Statement\n",
    "\n",
    "\n",
    "Welcome to Green - A country well known for its greenery and natural resources. Green is working towards the betterment of the environment, natural resources, and health of citizens. Over the past few years, Green has improvised its natural resources by enabling the technologies for a safer future. \n",
    "\n",
    "\n",
    "The major investment happened to be in renewable energy. As of today, renewable energy contributes to 60% of the total energy capacity in the country. By 2030, the target is to generate 95% of the total energy through renewable energy.\n",
    "\n",
    "\n",
    "In order to achieve this objective, the government of Green Energy would like to use Data Science to understand the total energy demand of the country in the near future. This will help the government to build the infrastructure and technologies to achieve 95% of the total energy capacity via renewable energy.\n",
    "\n",
    "\n",
    "They have captured the estimated total energy demand from the past 12 years on an hourly basis. Now, the government of Green Energy is looking for a data scientist to understand the data and forecast the total energy demand for the next 3 years based on past trends.\n",
    "\n",
    "\n",
    "# Objective\n",
    "\n",
    "To build a machine learning/deep learning approach to forecast the total energy demand on an hourly basis for the next 3 years based on past trends.\n",
    "\n",
    "## About the Dataset\n",
    "\n",
    "You are provided with total energy demand on an hourly basis for the past 9 years from March 2008 to Dec 2018 in the training set. You need to forecast the total energy demand on an hourly basis for the next 3 years from 2019 to 2021 in the test set."
   ]
  },
  {
   "cell_type": "markdown",
   "id": "8c07a9ff",
   "metadata": {},
   "source": [
    "The first step is to install the Prophet library using Pip, as follows:"
   ]
  },
  {
   "cell_type": "code",
   "execution_count": 1,
   "id": "f289892a",
   "metadata": {},
   "outputs": [
    {
     "name": "stdout",
     "output_type": "stream",
     "text": [
      "Defaulting to user installation because normal site-packages is not writeable\n",
      "Requirement already satisfied: prophet in /home/cepl/.local/lib/python3.10/site-packages (1.1.1)\n",
      "Requirement already satisfied: LunarCalendar>=0.0.9 in /home/cepl/.local/lib/python3.10/site-packages (from prophet) (0.0.9)\n",
      "Requirement already satisfied: holidays>=0.14.2 in /home/cepl/.local/lib/python3.10/site-packages (from prophet) (0.17)\n",
      "Requirement already satisfied: convertdate>=2.1.2 in /home/cepl/.local/lib/python3.10/site-packages (from prophet) (2.4.0)\n",
      "Requirement already satisfied: wheel>=0.37.0 in /usr/lib/python3/dist-packages (from prophet) (0.37.1)\n",
      "Requirement already satisfied: cmdstanpy>=1.0.4 in /home/cepl/.local/lib/python3.10/site-packages (from prophet) (1.0.8)\n",
      "Requirement already satisfied: matplotlib>=2.0.0 in /home/cepl/.local/lib/python3.10/site-packages (from prophet) (3.6.1)\n",
      "Requirement already satisfied: setuptools>=42 in /usr/lib/python3/dist-packages (from prophet) (59.6.0)\n",
      "Requirement already satisfied: setuptools-git>=1.2 in /home/cepl/.local/lib/python3.10/site-packages (from prophet) (1.2)\n",
      "Requirement already satisfied: numpy>=1.15.4 in /home/cepl/.local/lib/python3.10/site-packages (from prophet) (1.23.3)\n",
      "Requirement already satisfied: python-dateutil>=2.8.0 in /home/cepl/.local/lib/python3.10/site-packages (from prophet) (2.8.2)\n",
      "Requirement already satisfied: pandas>=1.0.4 in /home/cepl/.local/lib/python3.10/site-packages (from prophet) (1.3.5)\n",
      "Requirement already satisfied: tqdm>=4.36.1 in /home/cepl/.local/lib/python3.10/site-packages (from prophet) (4.64.1)\n",
      "Requirement already satisfied: pymeeus<=1,>=0.3.13 in /home/cepl/.local/lib/python3.10/site-packages (from convertdate>=2.1.2->prophet) (0.5.11)\n",
      "Requirement already satisfied: hijri-converter in /home/cepl/.local/lib/python3.10/site-packages (from holidays>=0.14.2->prophet) (2.2.4)\n",
      "Requirement already satisfied: korean-lunar-calendar in /home/cepl/.local/lib/python3.10/site-packages (from holidays>=0.14.2->prophet) (0.3.1)\n",
      "Requirement already satisfied: ephem>=3.7.5.3 in /home/cepl/.local/lib/python3.10/site-packages (from LunarCalendar>=0.0.9->prophet) (4.1.3)\n",
      "Requirement already satisfied: pytz in /home/cepl/.local/lib/python3.10/site-packages (from LunarCalendar>=0.0.9->prophet) (2019.3)\n",
      "Requirement already satisfied: fonttools>=4.22.0 in /home/cepl/.local/lib/python3.10/site-packages (from matplotlib>=2.0.0->prophet) (4.37.4)\n",
      "Requirement already satisfied: kiwisolver>=1.0.1 in /home/cepl/.local/lib/python3.10/site-packages (from matplotlib>=2.0.0->prophet) (1.3.1)\n",
      "Requirement already satisfied: pyparsing>=2.2.1 in /usr/lib/python3/dist-packages (from matplotlib>=2.0.0->prophet) (2.4.7)\n",
      "Requirement already satisfied: pillow>=6.2.0 in /usr/lib/python3/dist-packages (from matplotlib>=2.0.0->prophet) (9.0.1)\n",
      "Requirement already satisfied: packaging>=20.0 in /home/cepl/.local/lib/python3.10/site-packages (from matplotlib>=2.0.0->prophet) (21.3)\n",
      "Requirement already satisfied: cycler>=0.10 in /home/cepl/.local/lib/python3.10/site-packages (from matplotlib>=2.0.0->prophet) (0.10.0)\n",
      "Requirement already satisfied: contourpy>=1.0.1 in /home/cepl/.local/lib/python3.10/site-packages (from matplotlib>=2.0.0->prophet) (1.0.5)\n",
      "Requirement already satisfied: six>=1.5 in /usr/lib/python3/dist-packages (from python-dateutil>=2.8.0->prophet) (1.16.0)\n"
     ]
    }
   ],
   "source": [
    "!pip install prophet"
   ]
  },
  {
   "cell_type": "code",
   "execution_count": 2,
   "id": "b49a5c6c",
   "metadata": {},
   "outputs": [
    {
     "name": "stdout",
     "output_type": "stream",
     "text": [
      "Defaulting to user installation because normal site-packages is not writeable\n",
      "Requirement already satisfied: plotly in /home/cepl/.local/lib/python3.10/site-packages (5.11.0)\n",
      "Requirement already satisfied: tenacity>=6.2.0 in /home/cepl/.local/lib/python3.10/site-packages (from plotly) (8.1.0)\n",
      "Defaulting to user installation because normal site-packages is not writeable\n",
      "Requirement already satisfied: DateTime in /home/cepl/.local/lib/python3.10/site-packages (4.7)\n",
      "Requirement already satisfied: zope.interface in /home/cepl/.local/lib/python3.10/site-packages (from DateTime) (5.5.0)\n",
      "Requirement already satisfied: pytz in /home/cepl/.local/lib/python3.10/site-packages (from DateTime) (2019.3)\n",
      "Requirement already satisfied: setuptools in /usr/lib/python3/dist-packages (from zope.interface->DateTime) (59.6.0)\n"
     ]
    }
   ],
   "source": [
    "!pip install plotly\n",
    "!pip install DateTime"
   ]
  },
  {
   "cell_type": "code",
   "execution_count": 3,
   "id": "1a5e3d91",
   "metadata": {},
   "outputs": [
    {
     "name": "stderr",
     "output_type": "stream",
     "text": [
      "2022-11-19 17:32:10.968066: I tensorflow/core/platform/cpu_feature_guard.cc:193] This TensorFlow binary is optimized with oneAPI Deep Neural Network Library (oneDNN) to use the following CPU instructions in performance-critical operations:  AVX2 AVX512F AVX512_VNNI FMA\n",
      "To enable them in other operations, rebuild TensorFlow with the appropriate compiler flags.\n",
      "2022-11-19 17:32:11.140778: I tensorflow/core/util/util.cc:169] oneDNN custom operations are on. You may see slightly different numerical results due to floating-point round-off errors from different computation orders. To turn them off, set the environment variable `TF_ENABLE_ONEDNN_OPTS=0`.\n",
      "2022-11-19 17:32:11.144207: W tensorflow/stream_executor/platform/default/dso_loader.cc:64] Could not load dynamic library 'libcudart.so.11.0'; dlerror: libcudart.so.11.0: cannot open shared object file: No such file or directory\n",
      "2022-11-19 17:32:11.144217: I tensorflow/stream_executor/cuda/cudart_stub.cc:29] Ignore above cudart dlerror if you do not have a GPU set up on your machine.\n",
      "2022-11-19 17:32:11.161334: E tensorflow/stream_executor/cuda/cuda_blas.cc:2981] Unable to register cuBLAS factory: Attempting to register factory for plugin cuBLAS when one has already been registered\n",
      "2022-11-19 17:32:11.757874: W tensorflow/stream_executor/platform/default/dso_loader.cc:64] Could not load dynamic library 'libnvinfer.so.7'; dlerror: libnvinfer.so.7: cannot open shared object file: No such file or directory\n",
      "2022-11-19 17:32:11.757920: W tensorflow/stream_executor/platform/default/dso_loader.cc:64] Could not load dynamic library 'libnvinfer_plugin.so.7'; dlerror: libnvinfer_plugin.so.7: cannot open shared object file: No such file or directory\n",
      "2022-11-19 17:32:11.757923: W tensorflow/compiler/tf2tensorrt/utils/py_utils.cc:38] TF-TRT Warning: Cannot dlopen some TensorRT libraries. If you would like to use Nvidia GPU with TensorRT, please make sure the missing libraries mentioned above are installed properly.\n"
     ]
    }
   ],
   "source": [
    "\n",
    "# Import neccessary libraries which involves performance metrics, algorithms, Plotting tools\n",
    "\n",
    "import matplotlib.pyplot as plt\n",
    "from prophet import Prophet\n",
    "import plotly.express as px\n",
    "import seaborn as sns\n",
    "import math\n",
    "from keras.layers import LSTM\n",
    "from sklearn.preprocessing import MinMaxScaler\n",
    "from sklearn.model_selection import train_test_split\n",
    "from sklearn.metrics import mean_squared_error\n",
    "import warnings\n",
    "warnings.filterwarnings('ignore')\n",
    "import numpy as np\n",
    "import pandas as pd\n",
    "from datetime import datetime\n",
    "from sklearn.metrics import mean_absolute_error"
   ]
  },
  {
   "cell_type": "code",
   "execution_count": 4,
   "id": "9433d1d3",
   "metadata": {},
   "outputs": [
    {
     "name": "stdout",
     "output_type": "stream",
     "text": [
      "   row_id             datetime       energy\n",
      "0       1  2008-03-01 00:00:00  1259.985563\n",
      "1       2  2008-03-01 01:00:00  1095.541500\n",
      "2       3  2008-03-01 02:00:00  1056.247500\n",
      "3       4  2008-03-01 03:00:00  1034.742000\n",
      "4       5  2008-03-01 04:00:00  1026.334500\n"
     ]
    }
   ],
   "source": [
    "# Load data\n",
    "\n",
    "df = pd.read_csv(\"train_IxoE5JN.csv\")\n",
    "print(df.head())"
   ]
  },
  {
   "cell_type": "code",
   "execution_count": 5,
   "id": "97e95fb6",
   "metadata": {},
   "outputs": [
    {
     "name": "stdout",
     "output_type": "stream",
     "text": [
      "<class 'pandas.core.frame.DataFrame'>\n",
      "RangeIndex: 94992 entries, 0 to 94991\n",
      "Data columns (total 3 columns):\n",
      " #   Column    Non-Null Count  Dtype  \n",
      "---  ------    --------------  -----  \n",
      " 0   row_id    94992 non-null  int64  \n",
      " 1   datetime  94992 non-null  object \n",
      " 2   energy    93092 non-null  float64\n",
      "dtypes: float64(1), int64(1), object(1)\n",
      "memory usage: 2.2+ MB\n",
      "None\n"
     ]
    }
   ],
   "source": [
    "print(df.info())"
   ]
  },
  {
   "cell_type": "code",
   "execution_count": 6,
   "id": "931ac36b",
   "metadata": {},
   "outputs": [
    {
     "data": {
      "text/plain": [
       "row_id      0.000000\n",
       "datetime    0.000000\n",
       "energy      0.020002\n",
       "dtype: float64"
      ]
     },
     "execution_count": 6,
     "metadata": {},
     "output_type": "execute_result"
    }
   ],
   "source": [
    "df.isnull().mean()"
   ]
  },
  {
   "cell_type": "markdown",
   "id": "abd620d3",
   "metadata": {},
   "source": [
    "### Observation: \n",
    "There are some null values in energy column, we need to fill up those empty values with either mean value of the column or we totally drop those rows"
   ]
  },
  {
   "cell_type": "code",
   "execution_count": 7,
   "id": "cd727f19",
   "metadata": {},
   "outputs": [
    {
     "data": {
      "text/html": [
       "<div>\n",
       "<style scoped>\n",
       "    .dataframe tbody tr th:only-of-type {\n",
       "        vertical-align: middle;\n",
       "    }\n",
       "\n",
       "    .dataframe tbody tr th {\n",
       "        vertical-align: top;\n",
       "    }\n",
       "\n",
       "    .dataframe thead th {\n",
       "        text-align: right;\n",
       "    }\n",
       "</style>\n",
       "<table border=\"1\" class=\"dataframe\">\n",
       "  <thead>\n",
       "    <tr style=\"text-align: right;\">\n",
       "      <th></th>\n",
       "      <th>row_id</th>\n",
       "      <th>energy</th>\n",
       "    </tr>\n",
       "  </thead>\n",
       "  <tbody>\n",
       "    <tr>\n",
       "      <th>count</th>\n",
       "      <td>94992.000000</td>\n",
       "      <td>93092.000000</td>\n",
       "    </tr>\n",
       "    <tr>\n",
       "      <th>mean</th>\n",
       "      <td>47496.500000</td>\n",
       "      <td>1702.995014</td>\n",
       "    </tr>\n",
       "    <tr>\n",
       "      <th>std</th>\n",
       "      <td>27421.972723</td>\n",
       "      <td>369.322103</td>\n",
       "    </tr>\n",
       "    <tr>\n",
       "      <th>min</th>\n",
       "      <td>1.000000</td>\n",
       "      <td>866.388600</td>\n",
       "    </tr>\n",
       "    <tr>\n",
       "      <th>25%</th>\n",
       "      <td>23748.750000</td>\n",
       "      <td>1431.541100</td>\n",
       "    </tr>\n",
       "    <tr>\n",
       "      <th>50%</th>\n",
       "      <td>47496.500000</td>\n",
       "      <td>1654.465800</td>\n",
       "    </tr>\n",
       "    <tr>\n",
       "      <th>75%</th>\n",
       "      <td>71244.250000</td>\n",
       "      <td>1935.993450</td>\n",
       "    </tr>\n",
       "    <tr>\n",
       "      <th>max</th>\n",
       "      <td>94992.000000</td>\n",
       "      <td>3374.399600</td>\n",
       "    </tr>\n",
       "  </tbody>\n",
       "</table>\n",
       "</div>"
      ],
      "text/plain": [
       "             row_id        energy\n",
       "count  94992.000000  93092.000000\n",
       "mean   47496.500000   1702.995014\n",
       "std    27421.972723    369.322103\n",
       "min        1.000000    866.388600\n",
       "25%    23748.750000   1431.541100\n",
       "50%    47496.500000   1654.465800\n",
       "75%    71244.250000   1935.993450\n",
       "max    94992.000000   3374.399600"
      ]
     },
     "execution_count": 7,
     "metadata": {},
     "output_type": "execute_result"
    }
   ],
   "source": [
    "df.describe()"
   ]
  },
  {
   "cell_type": "markdown",
   "id": "3fa52024",
   "metadata": {},
   "source": [
    "## Observation:\n",
    "The mean value of energy is 1702.99 and we fill this value in those empty cells"
   ]
  },
  {
   "cell_type": "code",
   "execution_count": 8,
   "id": "1431a68a",
   "metadata": {},
   "outputs": [],
   "source": [
    "df = df.fillna(df.mean())"
   ]
  },
  {
   "cell_type": "code",
   "execution_count": 9,
   "id": "9333813e",
   "metadata": {},
   "outputs": [
    {
     "data": {
      "text/plain": [
       "row_id      0.0\n",
       "datetime    0.0\n",
       "energy      0.0\n",
       "dtype: float64"
      ]
     },
     "execution_count": 9,
     "metadata": {},
     "output_type": "execute_result"
    }
   ],
   "source": [
    "# Checking for null values \n",
    "df.isnull().mean()"
   ]
  },
  {
   "cell_type": "markdown",
   "id": "225a936c",
   "metadata": {},
   "source": [
    "Great! we do not have any null values now, we can proceed further\n",
    "\n",
    "Now, Let us convert datatime column from object type to datatime type"
   ]
  },
  {
   "cell_type": "code",
   "execution_count": 10,
   "id": "2cef1662",
   "metadata": {},
   "outputs": [
    {
     "data": {
      "text/html": [
       "<div>\n",
       "<style scoped>\n",
       "    .dataframe tbody tr th:only-of-type {\n",
       "        vertical-align: middle;\n",
       "    }\n",
       "\n",
       "    .dataframe tbody tr th {\n",
       "        vertical-align: top;\n",
       "    }\n",
       "\n",
       "    .dataframe thead th {\n",
       "        text-align: right;\n",
       "    }\n",
       "</style>\n",
       "<table border=\"1\" class=\"dataframe\">\n",
       "  <thead>\n",
       "    <tr style=\"text-align: right;\">\n",
       "      <th></th>\n",
       "      <th>row_id</th>\n",
       "      <th>datetime</th>\n",
       "      <th>energy</th>\n",
       "    </tr>\n",
       "  </thead>\n",
       "  <tbody>\n",
       "    <tr>\n",
       "      <th>0</th>\n",
       "      <td>1</td>\n",
       "      <td>2008-03-01 00:00:00</td>\n",
       "      <td>1259.985563</td>\n",
       "    </tr>\n",
       "    <tr>\n",
       "      <th>1</th>\n",
       "      <td>2</td>\n",
       "      <td>2008-03-01 01:00:00</td>\n",
       "      <td>1095.541500</td>\n",
       "    </tr>\n",
       "    <tr>\n",
       "      <th>2</th>\n",
       "      <td>3</td>\n",
       "      <td>2008-03-01 02:00:00</td>\n",
       "      <td>1056.247500</td>\n",
       "    </tr>\n",
       "    <tr>\n",
       "      <th>3</th>\n",
       "      <td>4</td>\n",
       "      <td>2008-03-01 03:00:00</td>\n",
       "      <td>1034.742000</td>\n",
       "    </tr>\n",
       "    <tr>\n",
       "      <th>4</th>\n",
       "      <td>5</td>\n",
       "      <td>2008-03-01 04:00:00</td>\n",
       "      <td>1026.334500</td>\n",
       "    </tr>\n",
       "  </tbody>\n",
       "</table>\n",
       "</div>"
      ],
      "text/plain": [
       "   row_id             datetime       energy\n",
       "0       1  2008-03-01 00:00:00  1259.985563\n",
       "1       2  2008-03-01 01:00:00  1095.541500\n",
       "2       3  2008-03-01 02:00:00  1056.247500\n",
       "3       4  2008-03-01 03:00:00  1034.742000\n",
       "4       5  2008-03-01 04:00:00  1026.334500"
      ]
     },
     "execution_count": 10,
     "metadata": {},
     "output_type": "execute_result"
    }
   ],
   "source": [
    "df_pm = df.copy()\n",
    "df_pm.head()"
   ]
  },
  {
   "cell_type": "code",
   "execution_count": 11,
   "id": "f1dfd9a2",
   "metadata": {},
   "outputs": [],
   "source": [
    "df_pm['datetime']= pd.to_datetime(df_pm['datetime'])"
   ]
  },
  {
   "cell_type": "code",
   "execution_count": 12,
   "id": "2ff791e8",
   "metadata": {},
   "outputs": [
    {
     "name": "stdout",
     "output_type": "stream",
     "text": [
      "<class 'pandas.core.frame.DataFrame'>\n",
      "RangeIndex: 94992 entries, 0 to 94991\n",
      "Data columns (total 3 columns):\n",
      " #   Column    Non-Null Count  Dtype         \n",
      "---  ------    --------------  -----         \n",
      " 0   row_id    94992 non-null  int64         \n",
      " 1   datetime  94992 non-null  datetime64[ns]\n",
      " 2   energy    94992 non-null  float64       \n",
      "dtypes: datetime64[ns](1), float64(1), int64(1)\n",
      "memory usage: 2.2 MB\n",
      "None\n"
     ]
    }
   ],
   "source": [
    "print(df_pm.info())"
   ]
  },
  {
   "cell_type": "code",
   "execution_count": 13,
   "id": "b6d0b077",
   "metadata": {},
   "outputs": [
    {
     "data": {
      "image/png": "[encoded data removed]",
      "text/plain": [
       "<Figure size 640x480 with 1 Axes>"
      ]
     },
     "metadata": {},
     "output_type": "display_data"
    }
   ],
   "source": [
    "ax = plt.subplot(111)\n",
    "ax.plot(df_pm['datetime'].dt.year, df_pm['energy'], color='r')\n",
    "ax.set_xticks([2009,2010,2011,2012,2013,2014,2015,2016,2017,2018])\n",
    "plt.xlabel(\"years\")\n",
    "plt.ylabel('Energy Demand')\n",
    "plt.show()"
   ]
  },
  {
   "cell_type": "code",
   "execution_count": 14,
   "id": "127c59d4",
   "metadata": {},
   "outputs": [
    {
     "data": {
      "image/png": "[encoded data removed]",
      "text/plain": [
       "<Figure size 640x480 with 1 Axes>"
      ]
     },
     "metadata": {},
     "output_type": "display_data"
    }
   ],
   "source": [
    "plt.bar(df_pm['datetime'].dt.year, df_pm['energy'],color ='maroon',width = 0.4)\n",
    "plt.xlabel(\"years\")\n",
    "plt.ylabel('Energy Demand')\n",
    "plt.show()"
   ]
  },
  {
   "cell_type": "markdown",
   "id": "84ed66c5",
   "metadata": {},
   "source": [
    "## Observation:\n",
    "The accompanying graphs shows the progressive rise in energy demand over a ten-year period."
   ]
  },
  {
   "cell_type": "code",
   "execution_count": 15,
   "id": "b9b2456a",
   "metadata": {},
   "outputs": [
    {
     "data": {
      "image/png": "[encoded data removed]",
      "text/plain": [
       "<Figure size 640x480 with 1 Axes>"
      ]
     },
     "metadata": {},
     "output_type": "display_data"
    }
   ],
   "source": [
    "plt.bar(df_pm['datetime'].dt.month, df_pm['energy'],color ='blue',width = 0.4)\n",
    "plt.xlabel(\"months\")\n",
    "plt.ylabel('Energy Demand')\n",
    "plt.show()"
   ]
  },
  {
   "cell_type": "markdown",
   "id": "0cca457b",
   "metadata": {},
   "source": [
    "## Observation:\n",
    "We can see that the energy consumption is highest in the months of June and July for any given year, possibly because it is summer."
   ]
  },
  {
   "cell_type": "code",
   "execution_count": 16,
   "id": "23756578",
   "metadata": {},
   "outputs": [
    {
     "data": {
      "text/html": [
       "<div>\n",
       "<style scoped>\n",
       "    .dataframe tbody tr th:only-of-type {\n",
       "        vertical-align: middle;\n",
       "    }\n",
       "\n",
       "    .dataframe tbody tr th {\n",
       "        vertical-align: top;\n",
       "    }\n",
       "\n",
       "    .dataframe thead th {\n",
       "        text-align: right;\n",
       "    }\n",
       "</style>\n",
       "<table border=\"1\" class=\"dataframe\">\n",
       "  <thead>\n",
       "    <tr style=\"text-align: right;\">\n",
       "      <th></th>\n",
       "      <th>ds</th>\n",
       "      <th>y</th>\n",
       "    </tr>\n",
       "  </thead>\n",
       "  <tbody>\n",
       "    <tr>\n",
       "      <th>0</th>\n",
       "      <td>2008-03-01 00:00:00</td>\n",
       "      <td>1259.985563</td>\n",
       "    </tr>\n",
       "    <tr>\n",
       "      <th>1</th>\n",
       "      <td>2008-03-01 01:00:00</td>\n",
       "      <td>1095.541500</td>\n",
       "    </tr>\n",
       "    <tr>\n",
       "      <th>2</th>\n",
       "      <td>2008-03-01 02:00:00</td>\n",
       "      <td>1056.247500</td>\n",
       "    </tr>\n",
       "    <tr>\n",
       "      <th>3</th>\n",
       "      <td>2008-03-01 03:00:00</td>\n",
       "      <td>1034.742000</td>\n",
       "    </tr>\n",
       "    <tr>\n",
       "      <th>4</th>\n",
       "      <td>2008-03-01 04:00:00</td>\n",
       "      <td>1026.334500</td>\n",
       "    </tr>\n",
       "  </tbody>\n",
       "</table>\n",
       "</div>"
      ],
      "text/plain": [
       "                    ds            y\n",
       "0  2008-03-01 00:00:00  1259.985563\n",
       "1  2008-03-01 01:00:00  1095.541500\n",
       "2  2008-03-01 02:00:00  1056.247500\n",
       "3  2008-03-01 03:00:00  1034.742000\n",
       "4  2008-03-01 04:00:00  1026.334500"
      ]
     },
     "execution_count": 16,
     "metadata": {},
     "output_type": "execute_result"
    }
   ],
   "source": [
    "# prepare dataset for Prophet model\n",
    "\n",
    "df_pm = df.rename(columns={'datetime':'ds', 'energy':'y'})\n",
    "df_pm = df_pm.drop(['row_id'], axis=1)\n",
    "df_pm.head()"
   ]
  },
  {
   "cell_type": "markdown",
   "id": "80cba603",
   "metadata": {},
   "source": [
    "# Train and Validation split\n",
    "\n",
    "Here, I am taking 2018 year as test data to validate\n"
   ]
  },
  {
   "cell_type": "code",
   "execution_count": 17,
   "id": "644a4903",
   "metadata": {},
   "outputs": [
    {
     "name": "stdout",
     "output_type": "stream",
     "text": [
      "                        ds          y\n",
      "86227  2017-12-31 19:00:00  1942.4160\n",
      "86228  2017-12-31 20:00:00  1894.7768\n",
      "86229  2017-12-31 21:00:00  1868.0620\n",
      "86230  2017-12-31 22:00:00  1857.9288\n",
      "86231  2017-12-31 23:00:00  1764.2296\n",
      "***************************************\n",
      "                        ds            y\n",
      "86232  2018-01-01 00:00:00  1642.762800\n",
      "86233  2018-01-01 01:00:00  1702.995014\n",
      "86234  2018-01-01 02:00:00  1463.655200\n",
      "86235  2018-01-01 03:00:00  1413.120800\n",
      "86236  2018-01-01 04:00:00  1385.879600\n"
     ]
    }
   ],
   "source": [
    "df_pm_train = df_pm[:86232]\n",
    "print(df_pm_train.tail())\n",
    "\n",
    "df_pm_valid = df_pm[86232:]\n",
    "print('***************************************')\n",
    "print(df_pm_valid.head())"
   ]
  },
  {
   "cell_type": "markdown",
   "id": "c94d7404",
   "metadata": {},
   "source": [
    "### Lets define the model and Fit the model"
   ]
  },
  {
   "cell_type": "code",
   "execution_count": 18,
   "id": "91cb1bb9",
   "metadata": {},
   "outputs": [
    {
     "name": "stderr",
     "output_type": "stream",
     "text": [
      "17:34:17 - cmdstanpy - INFO - Chain [1] start processing\n",
      "17:35:07 - cmdstanpy - INFO - Chain [1] done processing\n"
     ]
    },
    {
     "data": {
      "text/plain": [
       "<prophet.forecaster.Prophet at 0x7f4da9583670>"
      ]
     },
     "execution_count": 18,
     "metadata": {},
     "output_type": "execute_result"
    }
   ],
   "source": [
    "model = Prophet()\n",
    "model.fit(df_pm_train)"
   ]
  },
  {
   "cell_type": "markdown",
   "id": "a1ec56aa",
   "metadata": {},
   "source": [
    "# Predictions"
   ]
  },
  {
   "cell_type": "code",
   "execution_count": 19,
   "id": "2a5cb6a2",
   "metadata": {},
   "outputs": [
    {
     "name": "stdout",
     "output_type": "stream",
     "text": [
      "                      ds         yhat   yhat_lower   yhat_upper\n",
      "0    2018-01-01 00:00:00  1860.774382  1658.859348  2094.899710\n",
      "1    2018-01-01 01:00:00  1777.408689  1549.587008  1998.517924\n",
      "2    2018-01-01 02:00:00  1713.670094  1506.380784  1931.513160\n",
      "3    2018-01-01 03:00:00  1676.702082  1455.049042  1885.304003\n",
      "4    2018-01-01 04:00:00  1671.916492  1461.984926  1884.439342\n",
      "...                  ...          ...          ...          ...\n",
      "8755 2018-12-31 19:00:00  2174.994573  1679.174388  2686.816790\n",
      "8756 2018-12-31 20:00:00  2195.695060  1672.956805  2677.717121\n",
      "8757 2018-12-31 21:00:00  2189.584453  1718.892638  2700.124304\n",
      "8758 2018-12-31 22:00:00  2148.271704  1660.605179  2642.650206\n",
      "8759 2018-12-31 23:00:00  2078.811991  1611.742861  2565.696638\n",
      "\n",
      "[8760 rows x 4 columns]\n"
     ]
    }
   ],
   "source": [
    "# Prediction on validation dataset\n",
    "valid_predict =  model.predict(df_pm_valid)\n",
    "# summarize the forecast\n",
    "print(valid_predict[['ds', 'yhat', 'yhat_lower', 'yhat_upper']])"
   ]
  },
  {
   "cell_type": "code",
   "execution_count": 20,
   "id": "e1328963",
   "metadata": {},
   "outputs": [
    {
     "name": "stdout",
     "output_type": "stream",
     "text": [
      "                   ds         yhat   yhat_lower   yhat_upper\n",
      "0 2018-01-01 00:00:00  1860.774382  1658.859348  2094.899710\n",
      "1 2018-01-01 01:00:00  1777.408689  1549.587008  1998.517924\n",
      "2 2018-01-01 02:00:00  1713.670094  1506.380784  1931.513160\n",
      "3 2018-01-01 03:00:00  1676.702082  1455.049042  1885.304003\n",
      "4 2018-01-01 04:00:00  1671.916492  1461.984926  1884.439342\n"
     ]
    },
    {
     "data": {
      "image/png": "[encoded data removed]",
      "text/plain": [
       "<Figure size 1000x600 with 1 Axes>"
      ]
     },
     "metadata": {},
     "output_type": "display_data"
    }
   ],
   "source": [
    "print(valid_predict[['ds', 'yhat', 'yhat_lower', 'yhat_upper']].head())\n",
    "\n",
    "# plot forecast\n",
    "model.plot(valid_predict)\n",
    "plt.show()"
   ]
  },
  {
   "cell_type": "markdown",
   "id": "564c8e03",
   "metadata": {},
   "source": [
    "## Observation\n",
    "\n",
    "In the aforementioned graph, the dark colour markings stand in for the training data, while the dark blue colour represents the predicted value (yhat) and the sky blue colour represents the lower and upper bounds on the predicted value (yhat lower and yhat upper) of validation dataset, which indicate the forecast's level of uncertainty.\n",
    "\n",
    "# Performance of Model"
   ]
  },
  {
   "cell_type": "code",
   "execution_count": 21,
   "id": "db48a681",
   "metadata": {},
   "outputs": [
    {
     "name": "stdout",
     "output_type": "stream",
     "text": [
      "Root Mean Square Error : 234.101\n"
     ]
    }
   ],
   "source": [
    "# calculate RMSE between expected and predicted values\n",
    "\n",
    "y_true = df_pm_valid['y'].values\n",
    "y_pred = valid_predict['yhat'].values\n",
    "\n",
    "\n",
    "MSE = mean_squared_error(y_true, y_pred)\n",
    "\n",
    "RMSE = math.sqrt(MSE)\n",
    "print('Root Mean Square Error : %.3f' % RMSE)"
   ]
  },
  {
   "cell_type": "markdown",
   "id": "ede9a957",
   "metadata": {},
   "source": [
    "### Root Mean Square Error : 234.101"
   ]
  },
  {
   "cell_type": "code",
   "execution_count": 22,
   "id": "72bf478d",
   "metadata": {},
   "outputs": [
    {
     "data": {
      "image/png": "[encoded data removed]",
      "text/plain": [
       "<Figure size 640x480 with 1 Axes>"
      ]
     },
     "metadata": {},
     "output_type": "display_data"
    }
   ],
   "source": [
    "# plot expected vs actual\n",
    "plt.plot(y_true, label='Actual')\n",
    "plt.plot(y_pred, label='Predicted')\n",
    "plt.legend()\n",
    "plt.show()"
   ]
  },
  {
   "cell_type": "markdown",
   "id": "7ad6b8bd",
   "metadata": {},
   "source": [
    "# Future Predictions\n",
    "\n",
    "### Predictions for next 3 years i.e 2019, 2020 (leap year), 2021.\n",
    "\n",
    "### Here, I created three years' worth of data on hourly basis \n",
    "\n",
    "2019, 2020 (leap), 2021 -- > 365 + 366 + 365 = 1096 days\n",
    "\n",
    "1 day = 24 hours\n",
    "\n",
    "24 x 1096 = 26304 hours"
   ]
  },
  {
   "cell_type": "code",
   "execution_count": 103,
   "id": "e6c4a424",
   "metadata": {},
   "outputs": [
    {
     "name": "stdout",
     "output_type": "stream",
     "text": [
      "                   ds\n",
      "0 2008-03-01 00:00:00\n",
      "1 2008-03-01 01:00:00\n",
      "2 2008-03-01 02:00:00\n",
      "3 2008-03-01 03:00:00\n",
      "4 2008-03-01 04:00:00\n",
      "***************************\n",
      "                        ds\n",
      "121292 2021-12-31 20:00:00\n",
      "121293 2021-12-31 21:00:00\n",
      "121294 2021-12-31 22:00:00\n",
      "121295 2021-12-31 23:00:00\n",
      "121296 2022-01-01 00:00:00\n"
     ]
    }
   ],
   "source": [
    "future =  model.make_future_dataframe(periods = 26305,freq='h')\n",
    "print(future.head(5))\n",
    "print(\"***************************\")\n",
    "print(future.tail(5))"
   ]
  },
  {
   "cell_type": "code",
   "execution_count": 57,
   "id": "56a28c7b",
   "metadata": {},
   "outputs": [
    {
     "data": {
      "text/plain": [
       "(121297, 1)"
      ]
     },
     "execution_count": 57,
     "metadata": {},
     "output_type": "execute_result"
    }
   ],
   "source": [
    "future.shape"
   ]
  },
  {
   "cell_type": "code",
   "execution_count": 86,
   "id": "11406634",
   "metadata": {},
   "outputs": [
    {
     "data": {
      "text/html": [
       "<div>\n",
       "<style scoped>\n",
       "    .dataframe tbody tr th:only-of-type {\n",
       "        vertical-align: middle;\n",
       "    }\n",
       "\n",
       "    .dataframe tbody tr th {\n",
       "        vertical-align: top;\n",
       "    }\n",
       "\n",
       "    .dataframe thead th {\n",
       "        text-align: right;\n",
       "    }\n",
       "</style>\n",
       "<table border=\"1\" class=\"dataframe\">\n",
       "  <thead>\n",
       "    <tr style=\"text-align: right;\">\n",
       "      <th></th>\n",
       "      <th>ds</th>\n",
       "    </tr>\n",
       "  </thead>\n",
       "  <tbody>\n",
       "    <tr>\n",
       "      <th>94992</th>\n",
       "      <td>2019-01-01 00:00:00</td>\n",
       "    </tr>\n",
       "    <tr>\n",
       "      <th>94993</th>\n",
       "      <td>2019-01-01 01:00:00</td>\n",
       "    </tr>\n",
       "    <tr>\n",
       "      <th>94994</th>\n",
       "      <td>2019-01-01 02:00:00</td>\n",
       "    </tr>\n",
       "    <tr>\n",
       "      <th>94995</th>\n",
       "      <td>2019-01-01 03:00:00</td>\n",
       "    </tr>\n",
       "    <tr>\n",
       "      <th>94996</th>\n",
       "      <td>2019-01-01 04:00:00</td>\n",
       "    </tr>\n",
       "  </tbody>\n",
       "</table>\n",
       "</div>"
      ],
      "text/plain": [
       "                       ds\n",
       "94992 2019-01-01 00:00:00\n",
       "94993 2019-01-01 01:00:00\n",
       "94994 2019-01-01 02:00:00\n",
       "94995 2019-01-01 03:00:00\n",
       "94996 2019-01-01 04:00:00"
      ]
     },
     "execution_count": 86,
     "metadata": {},
     "output_type": "execute_result"
    }
   ],
   "source": [
    "future_spec = future[94992:]\n",
    "future_spec.head()"
   ]
  },
  {
   "cell_type": "code",
   "execution_count": 87,
   "id": "861dfd2e",
   "metadata": {},
   "outputs": [
    {
     "data": {
      "text/html": [
       "<div>\n",
       "<style scoped>\n",
       "    .dataframe tbody tr th:only-of-type {\n",
       "        vertical-align: middle;\n",
       "    }\n",
       "\n",
       "    .dataframe tbody tr th {\n",
       "        vertical-align: top;\n",
       "    }\n",
       "\n",
       "    .dataframe thead th {\n",
       "        text-align: right;\n",
       "    }\n",
       "</style>\n",
       "<table border=\"1\" class=\"dataframe\">\n",
       "  <thead>\n",
       "    <tr style=\"text-align: right;\">\n",
       "      <th></th>\n",
       "      <th>ds</th>\n",
       "    </tr>\n",
       "  </thead>\n",
       "  <tbody>\n",
       "    <tr>\n",
       "      <th>121292</th>\n",
       "      <td>2021-12-31 20:00:00</td>\n",
       "    </tr>\n",
       "    <tr>\n",
       "      <th>121293</th>\n",
       "      <td>2021-12-31 21:00:00</td>\n",
       "    </tr>\n",
       "    <tr>\n",
       "      <th>121294</th>\n",
       "      <td>2021-12-31 22:00:00</td>\n",
       "    </tr>\n",
       "    <tr>\n",
       "      <th>121295</th>\n",
       "      <td>2021-12-31 23:00:00</td>\n",
       "    </tr>\n",
       "    <tr>\n",
       "      <th>121296</th>\n",
       "      <td>2022-01-01 00:00:00</td>\n",
       "    </tr>\n",
       "  </tbody>\n",
       "</table>\n",
       "</div>"
      ],
      "text/plain": [
       "                        ds\n",
       "121292 2021-12-31 20:00:00\n",
       "121293 2021-12-31 21:00:00\n",
       "121294 2021-12-31 22:00:00\n",
       "121295 2021-12-31 23:00:00\n",
       "121296 2022-01-01 00:00:00"
      ]
     },
     "execution_count": 87,
     "metadata": {},
     "output_type": "execute_result"
    }
   ],
   "source": [
    "future_spec.tail()"
   ]
  },
  {
   "cell_type": "code",
   "execution_count": 88,
   "id": "e30bf186",
   "metadata": {},
   "outputs": [
    {
     "data": {
      "text/plain": [
       "(26305, 1)"
      ]
     },
     "execution_count": 88,
     "metadata": {},
     "output_type": "execute_result"
    }
   ],
   "source": [
    "future_spec.shape"
   ]
  },
  {
   "cell_type": "markdown",
   "id": "c1a97d62",
   "metadata": {},
   "source": [
    "### Defining Prophet model and fitting the model for whole training dataset"
   ]
  },
  {
   "cell_type": "code",
   "execution_count": 89,
   "id": "dcb991a5",
   "metadata": {},
   "outputs": [
    {
     "name": "stderr",
     "output_type": "stream",
     "text": [
      "19:25:36 - cmdstanpy - INFO - Chain [1] start processing\n",
      "19:26:51 - cmdstanpy - INFO - Chain [1] done processing\n"
     ]
    },
    {
     "data": {
      "text/plain": [
       "<prophet.forecaster.Prophet at 0x7f4d81ae0610>"
      ]
     },
     "execution_count": 89,
     "metadata": {},
     "output_type": "execute_result"
    }
   ],
   "source": [
    "model = Prophet()\n",
    "model.fit(df_pm)"
   ]
  },
  {
   "cell_type": "code",
   "execution_count": 90,
   "id": "03d056d7",
   "metadata": {},
   "outputs": [
    {
     "name": "stdout",
     "output_type": "stream",
     "text": [
      "                       ds         yhat   yhat_lower   yhat_upper\n",
      "0     2019-01-01 00:00:00  2019.081104  1816.633217  2261.374391\n",
      "1     2019-01-01 01:00:00  1944.963842  1727.758777  2172.001748\n",
      "2     2019-01-01 02:00:00  1890.364186  1677.768705  2107.773799\n",
      "3     2019-01-01 03:00:00  1862.306035  1642.654116  2095.399506\n",
      "4     2019-01-01 04:00:00  1866.186240  1635.861674  2095.572965\n",
      "...                   ...          ...          ...          ...\n",
      "26300 2021-12-31 20:00:00  2554.671865  -346.866986  5520.494733\n",
      "26301 2021-12-31 21:00:00  2539.256758  -273.834969  5409.961421\n",
      "26302 2021-12-31 22:00:00  2487.771604  -449.980785  5329.703137\n",
      "26303 2021-12-31 23:00:00  2407.673378  -475.641901  5300.740434\n",
      "26304 2022-01-01 00:00:00  2316.801552  -537.791103  5280.216871\n",
      "\n",
      "[26305 rows x 4 columns]\n"
     ]
    }
   ],
   "source": [
    "# use the model to make a forecast\n",
    "forecast = model.predict(future_spec)\n",
    "\n",
    "# summarize the forecast\n",
    "print(forecast[['ds', 'yhat', 'yhat_lower', 'yhat_upper']])"
   ]
  },
  {
   "cell_type": "markdown",
   "id": "b6264fa2",
   "metadata": {},
   "source": [
    "## Observation:\n",
    "forecast date time = ‘ds‘, \n",
    "\n",
    "forecasted value = ‘yhat‘,\n",
    "\n",
    "lower bound = 'yhat_lower',\n",
    "\n",
    "upper bound = 'yhat_upper' \n",
    "\n",
    "on the predicted value which are the uncertainty of the forecast."
   ]
  },
  {
   "cell_type": "code",
   "execution_count": 91,
   "id": "063fc23e",
   "metadata": {},
   "outputs": [
    {
     "name": "stdout",
     "output_type": "stream",
     "text": [
      "                   ds         yhat   yhat_lower   yhat_upper\n",
      "0 2019-01-01 00:00:00  2019.081104  1816.633217  2261.374391\n",
      "1 2019-01-01 01:00:00  1944.963842  1727.758777  2172.001748\n",
      "2 2019-01-01 02:00:00  1890.364186  1677.768705  2107.773799\n",
      "3 2019-01-01 03:00:00  1862.306035  1642.654116  2095.399506\n",
      "4 2019-01-01 04:00:00  1866.186240  1635.861674  2095.572965\n"
     ]
    },
    {
     "data": {
      "image/png": "[encoded data removed]",
      "text/plain": [
       "<Figure size 1000x600 with 1 Axes>"
      ]
     },
     "metadata": {},
     "output_type": "display_data"
    }
   ],
   "source": [
    "print(forecast[['ds', 'yhat', 'yhat_lower', 'yhat_upper']].head())\n",
    "\n",
    "# plot forecast\n",
    "model.plot(forecast)\n",
    "plt.show()"
   ]
  },
  {
   "cell_type": "markdown",
   "id": "b23e8998",
   "metadata": {},
   "source": [
    "## Observation\n",
    "\n",
    "In the aforementioned graph, the dark colour markings stand in for the training data, while the dark blue colour represents the predicted value (yhat) and the sky blue colour represents the lower and upper bounds on the predicted value (yhat lower and yhat upper), which indicate the forecast's level of uncertainty.\n",
    "\n",
    "### Hence, we have the predicted values we can project these values into test dataset"
   ]
  },
  {
   "cell_type": "code",
   "execution_count": 92,
   "id": "0d9a3845",
   "metadata": {},
   "outputs": [
    {
     "data": {
      "text/html": [
       "<div>\n",
       "<style scoped>\n",
       "    .dataframe tbody tr th:only-of-type {\n",
       "        vertical-align: middle;\n",
       "    }\n",
       "\n",
       "    .dataframe tbody tr th {\n",
       "        vertical-align: top;\n",
       "    }\n",
       "\n",
       "    .dataframe thead th {\n",
       "        text-align: right;\n",
       "    }\n",
       "</style>\n",
       "<table border=\"1\" class=\"dataframe\">\n",
       "  <thead>\n",
       "    <tr style=\"text-align: right;\">\n",
       "      <th></th>\n",
       "      <th>ds</th>\n",
       "      <th>trend</th>\n",
       "      <th>yhat_lower</th>\n",
       "      <th>yhat_upper</th>\n",
       "      <th>trend_lower</th>\n",
       "      <th>trend_upper</th>\n",
       "      <th>additive_terms</th>\n",
       "      <th>additive_terms_lower</th>\n",
       "      <th>additive_terms_upper</th>\n",
       "      <th>daily</th>\n",
       "      <th>...</th>\n",
       "      <th>weekly</th>\n",
       "      <th>weekly_lower</th>\n",
       "      <th>weekly_upper</th>\n",
       "      <th>yearly</th>\n",
       "      <th>yearly_lower</th>\n",
       "      <th>yearly_upper</th>\n",
       "      <th>multiplicative_terms</th>\n",
       "      <th>multiplicative_terms_lower</th>\n",
       "      <th>multiplicative_terms_upper</th>\n",
       "      <th>yhat</th>\n",
       "    </tr>\n",
       "  </thead>\n",
       "  <tbody>\n",
       "    <tr>\n",
       "      <th>0</th>\n",
       "      <td>2019-01-01 00:00:00</td>\n",
       "      <td>2058.808439</td>\n",
       "      <td>1816.633217</td>\n",
       "      <td>2261.374391</td>\n",
       "      <td>2058.808439</td>\n",
       "      <td>2058.808439</td>\n",
       "      <td>-39.727335</td>\n",
       "      <td>-39.727335</td>\n",
       "      <td>-39.727335</td>\n",
       "      <td>-77.936922</td>\n",
       "      <td>...</td>\n",
       "      <td>-62.154950</td>\n",
       "      <td>-62.154950</td>\n",
       "      <td>-62.154950</td>\n",
       "      <td>100.364537</td>\n",
       "      <td>100.364537</td>\n",
       "      <td>100.364537</td>\n",
       "      <td>0.0</td>\n",
       "      <td>0.0</td>\n",
       "      <td>0.0</td>\n",
       "      <td>2019.081104</td>\n",
       "    </tr>\n",
       "    <tr>\n",
       "      <th>1</th>\n",
       "      <td>2019-01-01 01:00:00</td>\n",
       "      <td>2058.815410</td>\n",
       "      <td>1727.758777</td>\n",
       "      <td>2172.001748</td>\n",
       "      <td>2058.815410</td>\n",
       "      <td>2058.815410</td>\n",
       "      <td>-113.851568</td>\n",
       "      <td>-113.851568</td>\n",
       "      <td>-113.851568</td>\n",
       "      <td>-160.194204</td>\n",
       "      <td>...</td>\n",
       "      <td>-53.799521</td>\n",
       "      <td>-53.799521</td>\n",
       "      <td>-53.799521</td>\n",
       "      <td>100.142157</td>\n",
       "      <td>100.142157</td>\n",
       "      <td>100.142157</td>\n",
       "      <td>0.0</td>\n",
       "      <td>0.0</td>\n",
       "      <td>0.0</td>\n",
       "      <td>1944.963842</td>\n",
       "    </tr>\n",
       "    <tr>\n",
       "      <th>2</th>\n",
       "      <td>2019-01-01 02:00:00</td>\n",
       "      <td>2058.822381</td>\n",
       "      <td>1677.768705</td>\n",
       "      <td>2107.773799</td>\n",
       "      <td>2058.822381</td>\n",
       "      <td>2058.822381</td>\n",
       "      <td>-168.458195</td>\n",
       "      <td>-168.458195</td>\n",
       "      <td>-168.458195</td>\n",
       "      <td>-222.942489</td>\n",
       "      <td>...</td>\n",
       "      <td>-45.435560</td>\n",
       "      <td>-45.435560</td>\n",
       "      <td>-45.435560</td>\n",
       "      <td>99.919853</td>\n",
       "      <td>99.919853</td>\n",
       "      <td>99.919853</td>\n",
       "      <td>0.0</td>\n",
       "      <td>0.0</td>\n",
       "      <td>0.0</td>\n",
       "      <td>1890.364186</td>\n",
       "    </tr>\n",
       "    <tr>\n",
       "      <th>3</th>\n",
       "      <td>2019-01-01 03:00:00</td>\n",
       "      <td>2058.829353</td>\n",
       "      <td>1642.654116</td>\n",
       "      <td>2095.399506</td>\n",
       "      <td>2058.829353</td>\n",
       "      <td>2058.829353</td>\n",
       "      <td>-196.523318</td>\n",
       "      <td>-196.523318</td>\n",
       "      <td>-196.523318</td>\n",
       "      <td>-259.112285</td>\n",
       "      <td>...</td>\n",
       "      <td>-37.108665</td>\n",
       "      <td>-37.108665</td>\n",
       "      <td>-37.108665</td>\n",
       "      <td>99.697632</td>\n",
       "      <td>99.697632</td>\n",
       "      <td>99.697632</td>\n",
       "      <td>0.0</td>\n",
       "      <td>0.0</td>\n",
       "      <td>0.0</td>\n",
       "      <td>1862.306035</td>\n",
       "    </tr>\n",
       "    <tr>\n",
       "      <th>4</th>\n",
       "      <td>2019-01-01 04:00:00</td>\n",
       "      <td>2058.836324</td>\n",
       "      <td>1635.861674</td>\n",
       "      <td>2095.572965</td>\n",
       "      <td>2058.836324</td>\n",
       "      <td>2058.836324</td>\n",
       "      <td>-192.650085</td>\n",
       "      <td>-192.650085</td>\n",
       "      <td>-192.650085</td>\n",
       "      <td>-263.262243</td>\n",
       "      <td>...</td>\n",
       "      <td>-28.863345</td>\n",
       "      <td>-28.863345</td>\n",
       "      <td>-28.863345</td>\n",
       "      <td>99.475504</td>\n",
       "      <td>99.475504</td>\n",
       "      <td>99.475504</td>\n",
       "      <td>0.0</td>\n",
       "      <td>0.0</td>\n",
       "      <td>0.0</td>\n",
       "      <td>1866.186240</td>\n",
       "    </tr>\n",
       "  </tbody>\n",
       "</table>\n",
       "<p>5 rows × 22 columns</p>\n",
       "</div>"
      ],
      "text/plain": [
       "                   ds        trend   yhat_lower   yhat_upper  trend_lower  \\\n",
       "0 2019-01-01 00:00:00  2058.808439  1816.633217  2261.374391  2058.808439   \n",
       "1 2019-01-01 01:00:00  2058.815410  1727.758777  2172.001748  2058.815410   \n",
       "2 2019-01-01 02:00:00  2058.822381  1677.768705  2107.773799  2058.822381   \n",
       "3 2019-01-01 03:00:00  2058.829353  1642.654116  2095.399506  2058.829353   \n",
       "4 2019-01-01 04:00:00  2058.836324  1635.861674  2095.572965  2058.836324   \n",
       "\n",
       "   trend_upper  additive_terms  additive_terms_lower  additive_terms_upper  \\\n",
       "0  2058.808439      -39.727335            -39.727335            -39.727335   \n",
       "1  2058.815410     -113.851568           -113.851568           -113.851568   \n",
       "2  2058.822381     -168.458195           -168.458195           -168.458195   \n",
       "3  2058.829353     -196.523318           -196.523318           -196.523318   \n",
       "4  2058.836324     -192.650085           -192.650085           -192.650085   \n",
       "\n",
       "        daily  ...     weekly  weekly_lower  weekly_upper      yearly  \\\n",
       "0  -77.936922  ... -62.154950    -62.154950    -62.154950  100.364537   \n",
       "1 -160.194204  ... -53.799521    -53.799521    -53.799521  100.142157   \n",
       "2 -222.942489  ... -45.435560    -45.435560    -45.435560   99.919853   \n",
       "3 -259.112285  ... -37.108665    -37.108665    -37.108665   99.697632   \n",
       "4 -263.262243  ... -28.863345    -28.863345    -28.863345   99.475504   \n",
       "\n",
       "   yearly_lower  yearly_upper  multiplicative_terms  \\\n",
       "0    100.364537    100.364537                   0.0   \n",
       "1    100.142157    100.142157                   0.0   \n",
       "2     99.919853     99.919853                   0.0   \n",
       "3     99.697632     99.697632                   0.0   \n",
       "4     99.475504     99.475504                   0.0   \n",
       "\n",
       "   multiplicative_terms_lower  multiplicative_terms_upper         yhat  \n",
       "0                         0.0                         0.0  2019.081104  \n",
       "1                         0.0                         0.0  1944.963842  \n",
       "2                         0.0                         0.0  1890.364186  \n",
       "3                         0.0                         0.0  1862.306035  \n",
       "4                         0.0                         0.0  1866.186240  \n",
       "\n",
       "[5 rows x 22 columns]"
      ]
     },
     "execution_count": 92,
     "metadata": {},
     "output_type": "execute_result"
    }
   ],
   "source": [
    "forecast.head()"
   ]
  },
  {
   "cell_type": "code",
   "execution_count": 93,
   "id": "e1d0170c",
   "metadata": {},
   "outputs": [
    {
     "data": {
      "text/html": [
       "<div>\n",
       "<style scoped>\n",
       "    .dataframe tbody tr th:only-of-type {\n",
       "        vertical-align: middle;\n",
       "    }\n",
       "\n",
       "    .dataframe tbody tr th {\n",
       "        vertical-align: top;\n",
       "    }\n",
       "\n",
       "    .dataframe thead th {\n",
       "        text-align: right;\n",
       "    }\n",
       "</style>\n",
       "<table border=\"1\" class=\"dataframe\">\n",
       "  <thead>\n",
       "    <tr style=\"text-align: right;\">\n",
       "      <th></th>\n",
       "      <th>ds</th>\n",
       "      <th>trend</th>\n",
       "      <th>yhat_lower</th>\n",
       "      <th>yhat_upper</th>\n",
       "      <th>trend_lower</th>\n",
       "      <th>trend_upper</th>\n",
       "      <th>additive_terms</th>\n",
       "      <th>additive_terms_lower</th>\n",
       "      <th>additive_terms_upper</th>\n",
       "      <th>daily</th>\n",
       "      <th>...</th>\n",
       "      <th>weekly</th>\n",
       "      <th>weekly_lower</th>\n",
       "      <th>weekly_upper</th>\n",
       "      <th>yearly</th>\n",
       "      <th>yearly_lower</th>\n",
       "      <th>yearly_upper</th>\n",
       "      <th>multiplicative_terms</th>\n",
       "      <th>multiplicative_terms_lower</th>\n",
       "      <th>multiplicative_terms_upper</th>\n",
       "      <th>yhat</th>\n",
       "    </tr>\n",
       "  </thead>\n",
       "  <tbody>\n",
       "    <tr>\n",
       "      <th>26300</th>\n",
       "      <td>2021-12-31 20:00:00</td>\n",
       "      <td>2242.158183</td>\n",
       "      <td>-346.866986</td>\n",
       "      <td>5520.494733</td>\n",
       "      <td>-641.221391</td>\n",
       "      <td>5186.086097</td>\n",
       "      <td>312.513682</td>\n",
       "      <td>312.513682</td>\n",
       "      <td>312.513682</td>\n",
       "      <td>155.430942</td>\n",
       "      <td>...</td>\n",
       "      <td>57.162887</td>\n",
       "      <td>57.162887</td>\n",
       "      <td>57.162887</td>\n",
       "      <td>99.919853</td>\n",
       "      <td>99.919853</td>\n",
       "      <td>99.919853</td>\n",
       "      <td>0.0</td>\n",
       "      <td>0.0</td>\n",
       "      <td>0.0</td>\n",
       "      <td>2554.671865</td>\n",
       "    </tr>\n",
       "    <tr>\n",
       "      <th>26301</th>\n",
       "      <td>2021-12-31 21:00:00</td>\n",
       "      <td>2242.165154</td>\n",
       "      <td>-273.834969</td>\n",
       "      <td>5409.961421</td>\n",
       "      <td>-641.458965</td>\n",
       "      <td>5186.305880</td>\n",
       "      <td>297.091603</td>\n",
       "      <td>297.091603</td>\n",
       "      <td>297.091603</td>\n",
       "      <td>141.041639</td>\n",
       "      <td>...</td>\n",
       "      <td>56.352332</td>\n",
       "      <td>56.352332</td>\n",
       "      <td>56.352332</td>\n",
       "      <td>99.697632</td>\n",
       "      <td>99.697632</td>\n",
       "      <td>99.697632</td>\n",
       "      <td>0.0</td>\n",
       "      <td>0.0</td>\n",
       "      <td>0.0</td>\n",
       "      <td>2539.256758</td>\n",
       "    </tr>\n",
       "    <tr>\n",
       "      <th>26302</th>\n",
       "      <td>2021-12-31 22:00:00</td>\n",
       "      <td>2242.172126</td>\n",
       "      <td>-449.980785</td>\n",
       "      <td>5329.703137</td>\n",
       "      <td>-641.696540</td>\n",
       "      <td>5186.525663</td>\n",
       "      <td>245.599478</td>\n",
       "      <td>245.599478</td>\n",
       "      <td>245.599478</td>\n",
       "      <td>90.644719</td>\n",
       "      <td>...</td>\n",
       "      <td>55.479256</td>\n",
       "      <td>55.479256</td>\n",
       "      <td>55.479256</td>\n",
       "      <td>99.475504</td>\n",
       "      <td>99.475504</td>\n",
       "      <td>99.475504</td>\n",
       "      <td>0.0</td>\n",
       "      <td>0.0</td>\n",
       "      <td>0.0</td>\n",
       "      <td>2487.771604</td>\n",
       "    </tr>\n",
       "    <tr>\n",
       "      <th>26303</th>\n",
       "      <td>2021-12-31 23:00:00</td>\n",
       "      <td>2242.179097</td>\n",
       "      <td>-475.641901</td>\n",
       "      <td>5300.740434</td>\n",
       "      <td>-641.934114</td>\n",
       "      <td>5186.745445</td>\n",
       "      <td>165.494281</td>\n",
       "      <td>165.494281</td>\n",
       "      <td>165.494281</td>\n",
       "      <td>11.703050</td>\n",
       "      <td>...</td>\n",
       "      <td>54.537754</td>\n",
       "      <td>54.537754</td>\n",
       "      <td>54.537754</td>\n",
       "      <td>99.253477</td>\n",
       "      <td>99.253477</td>\n",
       "      <td>99.253477</td>\n",
       "      <td>0.0</td>\n",
       "      <td>0.0</td>\n",
       "      <td>0.0</td>\n",
       "      <td>2407.673378</td>\n",
       "    </tr>\n",
       "    <tr>\n",
       "      <th>26304</th>\n",
       "      <td>2022-01-01 00:00:00</td>\n",
       "      <td>2242.186069</td>\n",
       "      <td>-537.791103</td>\n",
       "      <td>5280.216871</td>\n",
       "      <td>-642.171689</td>\n",
       "      <td>5186.965228</td>\n",
       "      <td>74.615484</td>\n",
       "      <td>74.615484</td>\n",
       "      <td>74.615484</td>\n",
       "      <td>-77.936922</td>\n",
       "      <td>...</td>\n",
       "      <td>53.520847</td>\n",
       "      <td>53.520847</td>\n",
       "      <td>53.520847</td>\n",
       "      <td>99.031559</td>\n",
       "      <td>99.031559</td>\n",
       "      <td>99.031559</td>\n",
       "      <td>0.0</td>\n",
       "      <td>0.0</td>\n",
       "      <td>0.0</td>\n",
       "      <td>2316.801552</td>\n",
       "    </tr>\n",
       "  </tbody>\n",
       "</table>\n",
       "<p>5 rows × 22 columns</p>\n",
       "</div>"
      ],
      "text/plain": [
       "                       ds        trend  yhat_lower   yhat_upper  trend_lower  \\\n",
       "26300 2021-12-31 20:00:00  2242.158183 -346.866986  5520.494733  -641.221391   \n",
       "26301 2021-12-31 21:00:00  2242.165154 -273.834969  5409.961421  -641.458965   \n",
       "26302 2021-12-31 22:00:00  2242.172126 -449.980785  5329.703137  -641.696540   \n",
       "26303 2021-12-31 23:00:00  2242.179097 -475.641901  5300.740434  -641.934114   \n",
       "26304 2022-01-01 00:00:00  2242.186069 -537.791103  5280.216871  -642.171689   \n",
       "\n",
       "       trend_upper  additive_terms  additive_terms_lower  \\\n",
       "26300  5186.086097      312.513682            312.513682   \n",
       "26301  5186.305880      297.091603            297.091603   \n",
       "26302  5186.525663      245.599478            245.599478   \n",
       "26303  5186.745445      165.494281            165.494281   \n",
       "26304  5186.965228       74.615484             74.615484   \n",
       "\n",
       "       additive_terms_upper       daily  ...     weekly  weekly_lower  \\\n",
       "26300            312.513682  155.430942  ...  57.162887     57.162887   \n",
       "26301            297.091603  141.041639  ...  56.352332     56.352332   \n",
       "26302            245.599478   90.644719  ...  55.479256     55.479256   \n",
       "26303            165.494281   11.703050  ...  54.537754     54.537754   \n",
       "26304             74.615484  -77.936922  ...  53.520847     53.520847   \n",
       "\n",
       "       weekly_upper     yearly  yearly_lower  yearly_upper  \\\n",
       "26300     57.162887  99.919853     99.919853     99.919853   \n",
       "26301     56.352332  99.697632     99.697632     99.697632   \n",
       "26302     55.479256  99.475504     99.475504     99.475504   \n",
       "26303     54.537754  99.253477     99.253477     99.253477   \n",
       "26304     53.520847  99.031559     99.031559     99.031559   \n",
       "\n",
       "       multiplicative_terms  multiplicative_terms_lower  \\\n",
       "26300                   0.0                         0.0   \n",
       "26301                   0.0                         0.0   \n",
       "26302                   0.0                         0.0   \n",
       "26303                   0.0                         0.0   \n",
       "26304                   0.0                         0.0   \n",
       "\n",
       "       multiplicative_terms_upper         yhat  \n",
       "26300                         0.0  2554.671865  \n",
       "26301                         0.0  2539.256758  \n",
       "26302                         0.0  2487.771604  \n",
       "26303                         0.0  2407.673378  \n",
       "26304                         0.0  2316.801552  \n",
       "\n",
       "[5 rows x 22 columns]"
      ]
     },
     "execution_count": 93,
     "metadata": {},
     "output_type": "execute_result"
    }
   ],
   "source": [
    "forecast.tail()"
   ]
  },
  {
   "cell_type": "markdown",
   "id": "f8531dc2",
   "metadata": {},
   "source": [
    "## Observation: \n",
    "We need only forcasted values from the future dataframe, therefore we can drop other columns"
   ]
  },
  {
   "cell_type": "code",
   "execution_count": 94,
   "id": "3097533e",
   "metadata": {},
   "outputs": [
    {
     "data": {
      "text/html": [
       "<div>\n",
       "<style scoped>\n",
       "    .dataframe tbody tr th:only-of-type {\n",
       "        vertical-align: middle;\n",
       "    }\n",
       "\n",
       "    .dataframe tbody tr th {\n",
       "        vertical-align: top;\n",
       "    }\n",
       "\n",
       "    .dataframe thead th {\n",
       "        text-align: right;\n",
       "    }\n",
       "</style>\n",
       "<table border=\"1\" class=\"dataframe\">\n",
       "  <thead>\n",
       "    <tr style=\"text-align: right;\">\n",
       "      <th></th>\n",
       "      <th>ds</th>\n",
       "      <th>yhat</th>\n",
       "    </tr>\n",
       "  </thead>\n",
       "  <tbody>\n",
       "    <tr>\n",
       "      <th>0</th>\n",
       "      <td>2019-01-01 00:00:00</td>\n",
       "      <td>2019.081104</td>\n",
       "    </tr>\n",
       "    <tr>\n",
       "      <th>1</th>\n",
       "      <td>2019-01-01 01:00:00</td>\n",
       "      <td>1944.963842</td>\n",
       "    </tr>\n",
       "    <tr>\n",
       "      <th>2</th>\n",
       "      <td>2019-01-01 02:00:00</td>\n",
       "      <td>1890.364186</td>\n",
       "    </tr>\n",
       "    <tr>\n",
       "      <th>3</th>\n",
       "      <td>2019-01-01 03:00:00</td>\n",
       "      <td>1862.306035</td>\n",
       "    </tr>\n",
       "    <tr>\n",
       "      <th>4</th>\n",
       "      <td>2019-01-01 04:00:00</td>\n",
       "      <td>1866.186240</td>\n",
       "    </tr>\n",
       "  </tbody>\n",
       "</table>\n",
       "</div>"
      ],
      "text/plain": [
       "                   ds         yhat\n",
       "0 2019-01-01 00:00:00  2019.081104\n",
       "1 2019-01-01 01:00:00  1944.963842\n",
       "2 2019-01-01 02:00:00  1890.364186\n",
       "3 2019-01-01 03:00:00  1862.306035\n",
       "4 2019-01-01 04:00:00  1866.186240"
      ]
     },
     "execution_count": 94,
     "metadata": {},
     "output_type": "execute_result"
    }
   ],
   "source": [
    "forecast_specific = forecast.loc[:, forecast.columns.isin(['ds','yhat'])]\n",
    "forecast_specific.head()"
   ]
  },
  {
   "cell_type": "code",
   "execution_count": 95,
   "id": "1a041e9f",
   "metadata": {},
   "outputs": [
    {
     "data": {
      "text/html": [
       "<div>\n",
       "<style scoped>\n",
       "    .dataframe tbody tr th:only-of-type {\n",
       "        vertical-align: middle;\n",
       "    }\n",
       "\n",
       "    .dataframe tbody tr th {\n",
       "        vertical-align: top;\n",
       "    }\n",
       "\n",
       "    .dataframe thead th {\n",
       "        text-align: right;\n",
       "    }\n",
       "</style>\n",
       "<table border=\"1\" class=\"dataframe\">\n",
       "  <thead>\n",
       "    <tr style=\"text-align: right;\">\n",
       "      <th></th>\n",
       "      <th>datetime</th>\n",
       "      <th>energy</th>\n",
       "    </tr>\n",
       "  </thead>\n",
       "  <tbody>\n",
       "    <tr>\n",
       "      <th>0</th>\n",
       "      <td>2019-01-01 00:00:00</td>\n",
       "      <td>2019.081104</td>\n",
       "    </tr>\n",
       "    <tr>\n",
       "      <th>1</th>\n",
       "      <td>2019-01-01 01:00:00</td>\n",
       "      <td>1944.963842</td>\n",
       "    </tr>\n",
       "    <tr>\n",
       "      <th>2</th>\n",
       "      <td>2019-01-01 02:00:00</td>\n",
       "      <td>1890.364186</td>\n",
       "    </tr>\n",
       "    <tr>\n",
       "      <th>3</th>\n",
       "      <td>2019-01-01 03:00:00</td>\n",
       "      <td>1862.306035</td>\n",
       "    </tr>\n",
       "    <tr>\n",
       "      <th>4</th>\n",
       "      <td>2019-01-01 04:00:00</td>\n",
       "      <td>1866.186240</td>\n",
       "    </tr>\n",
       "  </tbody>\n",
       "</table>\n",
       "</div>"
      ],
      "text/plain": [
       "             datetime       energy\n",
       "0 2019-01-01 00:00:00  2019.081104\n",
       "1 2019-01-01 01:00:00  1944.963842\n",
       "2 2019-01-01 02:00:00  1890.364186\n",
       "3 2019-01-01 03:00:00  1862.306035\n",
       "4 2019-01-01 04:00:00  1866.186240"
      ]
     },
     "execution_count": 95,
     "metadata": {},
     "output_type": "execute_result"
    }
   ],
   "source": [
    "forecast_specific = forecast_specific.rename(columns={'ds':'datetime', 'yhat':'energy'})\n",
    "forecast_specific.head()"
   ]
  },
  {
   "cell_type": "code",
   "execution_count": 96,
   "id": "9efa5777",
   "metadata": {},
   "outputs": [
    {
     "data": {
      "text/plain": [
       "(26305, 2)"
      ]
     },
     "execution_count": 96,
     "metadata": {},
     "output_type": "execute_result"
    }
   ],
   "source": [
    "forecast_specific.shape"
   ]
  },
  {
   "cell_type": "code",
   "execution_count": 97,
   "id": "80ba1afe",
   "metadata": {},
   "outputs": [
    {
     "name": "stdout",
     "output_type": "stream",
     "text": [
      "   row_id             datetime\n",
      "0   94993  2019-01-01 00:00:00\n",
      "1   94994  2019-01-01 01:00:00\n",
      "2   94995  2019-01-01 02:00:00\n",
      "3   94996  2019-01-01 03:00:00\n",
      "4   94997  2019-01-01 04:00:00\n"
     ]
    }
   ],
   "source": [
    "# Load test data\n",
    "\n",
    "df_test = pd.read_csv(\"test_WudNWDM.csv\")\n",
    "print(df_test.head())"
   ]
  },
  {
   "cell_type": "code",
   "execution_count": 98,
   "id": "2a42006b",
   "metadata": {},
   "outputs": [],
   "source": [
    "df_test['datetime']= pd.to_datetime(df_test['datetime'])"
   ]
  },
  {
   "cell_type": "code",
   "execution_count": 101,
   "id": "f138dd00",
   "metadata": {},
   "outputs": [
    {
     "data": {
      "text/html": [
       "<div>\n",
       "<style scoped>\n",
       "    .dataframe tbody tr th:only-of-type {\n",
       "        vertical-align: middle;\n",
       "    }\n",
       "\n",
       "    .dataframe tbody tr th {\n",
       "        vertical-align: top;\n",
       "    }\n",
       "\n",
       "    .dataframe thead th {\n",
       "        text-align: right;\n",
       "    }\n",
       "</style>\n",
       "<table border=\"1\" class=\"dataframe\">\n",
       "  <thead>\n",
       "    <tr style=\"text-align: right;\">\n",
       "      <th></th>\n",
       "      <th>row_id</th>\n",
       "      <th>energy</th>\n",
       "    </tr>\n",
       "  </thead>\n",
       "  <tbody>\n",
       "    <tr>\n",
       "      <th>0</th>\n",
       "      <td>94993.0</td>\n",
       "      <td>2019.081104</td>\n",
       "    </tr>\n",
       "    <tr>\n",
       "      <th>1</th>\n",
       "      <td>94994.0</td>\n",
       "      <td>1944.963842</td>\n",
       "    </tr>\n",
       "    <tr>\n",
       "      <th>2</th>\n",
       "      <td>94995.0</td>\n",
       "      <td>1890.364186</td>\n",
       "    </tr>\n",
       "    <tr>\n",
       "      <th>3</th>\n",
       "      <td>94996.0</td>\n",
       "      <td>1862.306035</td>\n",
       "    </tr>\n",
       "    <tr>\n",
       "      <th>4</th>\n",
       "      <td>94997.0</td>\n",
       "      <td>1866.186240</td>\n",
       "    </tr>\n",
       "  </tbody>\n",
       "</table>\n",
       "</div>"
      ],
      "text/plain": [
       "    row_id       energy\n",
       "0  94993.0  2019.081104\n",
       "1  94994.0  1944.963842\n",
       "2  94995.0  1890.364186\n",
       "3  94996.0  1862.306035\n",
       "4  94997.0  1866.186240"
      ]
     },
     "execution_count": 101,
     "metadata": {},
     "output_type": "execute_result"
    }
   ],
   "source": [
    "df_final = pd.merge(forecast_specific, df_test, on='datetime', how='outer')\n",
    "df_final = df_final[['row_id','datetime','energy']]\n",
    "df_final = df_final.drop(['datetime'],axis=1)\n",
    "df_final = df_final[df_final['row_id'].notna()]\n",
    "df_final.head()"
   ]
  },
  {
   "cell_type": "markdown",
   "id": "7c864bc9",
   "metadata": {},
   "source": [
    "## Saving the dataframe"
   ]
  },
  {
   "cell_type": "code",
   "execution_count": 102,
   "id": "fdc92833",
   "metadata": {},
   "outputs": [],
   "source": [
    "df_final.to_csv('submission_final.csv',index=False)"
   ]
  },
  {
   "cell_type": "code",
   "execution_count": null,
   "id": "43b87f29",
   "metadata": {},
   "outputs": [],
   "source": []
  }
 ],
 "metadata": {
  "kernelspec": {
   "display_name": "Python 3 (ipykernel)",
   "language": "python",
   "name": "python3"
  },
  "language_info": {
   "codemirror_mode": {
    "name": "ipython",
    "version": 3
   },
   "file_extension": ".py",
   "mimetype": "text/x-python",
   "name": "python",
   "nbconvert_exporter": "python",
   "pygments_lexer": "ipython3",
   "version": "3.10.6"
  }
 },
 "nbformat": 4,
 "nbformat_minor": 5
}
